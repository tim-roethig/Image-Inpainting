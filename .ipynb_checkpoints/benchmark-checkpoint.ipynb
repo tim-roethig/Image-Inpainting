{
 "cells": [
  {
   "cell_type": "code",
   "execution_count": 3,
   "id": "9708779a",
   "metadata": {},
   "outputs": [],
   "source": [
    "# This is a jupyter notebook to compare the masking methods written so far:\n",
    "# -- arbitrary rectangles\n",
    "# -- arbitrary lines\n",
    "# -- arbitrary lines efficient <-- to test\n",
    "\n",
    "# As skimage.draw.disk was suspected to be the computationally most heavy component,\n",
    "# its time was also included in the test.\n",
    "\n",
    "\n",
    "# As the algorithms involve a lot of randomly computed numbers, \n",
    "# some crucial variables had to be fixed for fairness.\n",
    "# Of course, the rectangle method is very different and therefore \n",
    "# does not have these parameters. It is a simple algorithm, so it´s considered as a baseline here.\n",
    "# It is assumed that mainly the number of lines and the maximal radius of\n",
    "# the circles that are drawn in both methods contribute to the runtime.\n",
    "\n",
    "# Benchmark parameters:\n",
    "# lines = 10\n",
    "# maxRad = 10\n",
    "\n",
    "# Others:\n",
    "# - Picture 1 from my personal test images was taken\n",
    "# - n_samples=3 in __init__() handed over as param\n"
   ]
  },
  {
   "cell_type": "code",
   "execution_count": null,
   "id": "a8ba5325",
   "metadata": {},
   "outputs": [],
   "source": [
    "import numpy as np\n",
    "import pandas as pd\n",
    "from tqdm import tqdm\n",
    "import matplotlib.pyplot as plt\n",
    "import os"
   ]
  },
  {
   "cell_type": "code",
   "execution_count": null,
   "id": "e20ea3fa",
   "metadata": {},
   "outputs": [],
   "source": [
    "# Load data\n",
    "eff_lines = f'{os.getcwd()}/efficient_lines_time.csv'\n",
    "lines = f'{os.getcwd()}/lines_time.csv'\n",
    "rectangles = f'{os.getcwd()}/rectangles_time.csv'\n",
    "\n",
    "dataFrame = pd.concat(map(pd.read_csv, [eff_lines, lines, rectangles]), ignore_index=True)"
   ]
  }
 ],
 "metadata": {
  "kernelspec": {
   "display_name": "inpainting",
   "language": "python",
   "name": "inpainting"
  },
  "language_info": {
   "codemirror_mode": {
    "name": "ipython",
    "version": 3
   },
   "file_extension": ".py",
   "mimetype": "text/x-python",
   "name": "python",
   "nbconvert_exporter": "python",
   "pygments_lexer": "ipython3",
   "version": "3.8.12"
  }
 },
 "nbformat": 4,
 "nbformat_minor": 5
}
