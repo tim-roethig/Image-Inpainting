{
 "cells": [
  {
   "cell_type": "markdown",
   "id": "43ed2728",
   "metadata": {},
   "source": [
    "BENCHMARK TEST\n",
    "\n",
    "This is a jupyter notebook to compare the masking methods written so far:\n",
    "- arbitrary rectangles\n",
    "- arbitrary lines\n",
    "- arbitrary lines efficient <-- to test\n",
    "\n",
    "As skimage.draw.disk was suspected to be the computationally most heavy component,\n",
    "its time was also included in the test.\n",
    "\n",
    "As the algorithms involve a lot of randomly computed numbers, \n",
    "some crucial variables had to be fixed for fairness.\n",
    "Of course, the rectangle method is very different and therefore \n",
    "does not have these parameters. It is a simple algorithm, so it´s considered as a baseline here.\n",
    "It is assumed that mainly the number of lines and the maximal radius of\n",
    "the circles that are drawn in both methods contribute to the runtime.\n",
    "\n",
    "Benchmark parameters:\n",
    "- lines = 10\n",
    "- maxRad = 10\n",
    "\n",
    "(Could also include data for other parameters)\n",
    "\n",
    "Others:\n",
    "- Picture 1 from my personal test images was taken\n",
    "- n_samples=3 in __init__() handed over as param\n"
   ]
  },
  {
   "cell_type": "code",
   "execution_count": 1,
   "id": "e69e94a1",
   "metadata": {},
   "outputs": [],
   "source": [
    "import numpy as np\n",
    "import pandas as pd\n",
    "from tqdm import tqdm\n",
    "import matplotlib.pyplot as plt\n",
    "import os"
   ]
  },
  {
   "cell_type": "code",
   "execution_count": 2,
   "id": "c019e4f8",
   "metadata": {},
   "outputs": [],
   "source": [
    "# Load data\n",
    "eff_lines = pd.read_csv(\"efficient_lines_time.csv\")\n",
    "lines = pd.read_csv(\"lines_time.csv\")\n",
    "rectangles = pd.read_csv(\"rectangles_time.csv\")\n",
    "\n",
    "# Merge data\n",
    "dataFrame = eff_lines.join(lines.join(rectangles))"
   ]
  },
  {
   "cell_type": "code",
   "execution_count": 3,
   "id": "e17acbe2",
   "metadata": {},
   "outputs": [
    {
     "data": {
      "text/html": [
       "<div>\n",
       "<style scoped>\n",
       "    .dataframe tbody tr th:only-of-type {\n",
       "        vertical-align: middle;\n",
       "    }\n",
       "\n",
       "    .dataframe tbody tr th {\n",
       "        vertical-align: top;\n",
       "    }\n",
       "\n",
       "    .dataframe thead th {\n",
       "        text-align: right;\n",
       "    }\n",
       "</style>\n",
       "<table border=\"1\" class=\"dataframe\">\n",
       "  <thead>\n",
       "    <tr style=\"text-align: right;\">\n",
       "      <th></th>\n",
       "      <th>NEW_exec_time</th>\n",
       "      <th>NEW_disk_time</th>\n",
       "      <th>OLD_exec_time</th>\n",
       "      <th>OLD_disk_time</th>\n",
       "      <th>REC_exec_time</th>\n",
       "    </tr>\n",
       "  </thead>\n",
       "  <tbody>\n",
       "    <tr>\n",
       "      <th>0</th>\n",
       "      <td>0.112405</td>\n",
       "      <td>0.083974</td>\n",
       "      <td>0.124952</td>\n",
       "      <td>0.078482</td>\n",
       "      <td>0.042630</td>\n",
       "    </tr>\n",
       "    <tr>\n",
       "      <th>1</th>\n",
       "      <td>0.118061</td>\n",
       "      <td>0.092594</td>\n",
       "      <td>0.145950</td>\n",
       "      <td>0.120183</td>\n",
       "      <td>0.015403</td>\n",
       "    </tr>\n",
       "    <tr>\n",
       "      <th>2</th>\n",
       "      <td>0.121361</td>\n",
       "      <td>0.097085</td>\n",
       "      <td>0.102239</td>\n",
       "      <td>0.078916</td>\n",
       "      <td>0.015630</td>\n",
       "    </tr>\n",
       "    <tr>\n",
       "      <th>3</th>\n",
       "      <td>0.094955</td>\n",
       "      <td>0.077940</td>\n",
       "      <td>0.129797</td>\n",
       "      <td>0.105395</td>\n",
       "      <td>0.015625</td>\n",
       "    </tr>\n",
       "    <tr>\n",
       "      <th>4</th>\n",
       "      <td>0.117725</td>\n",
       "      <td>0.117725</td>\n",
       "      <td>0.153081</td>\n",
       "      <td>0.128688</td>\n",
       "      <td>0.015625</td>\n",
       "    </tr>\n",
       "    <tr>\n",
       "      <th>...</th>\n",
       "      <td>...</td>\n",
       "      <td>...</td>\n",
       "      <td>...</td>\n",
       "      <td>...</td>\n",
       "      <td>...</td>\n",
       "    </tr>\n",
       "    <tr>\n",
       "      <th>995</th>\n",
       "      <td>0.106305</td>\n",
       "      <td>0.082932</td>\n",
       "      <td>0.130668</td>\n",
       "      <td>0.104241</td>\n",
       "      <td>0.025626</td>\n",
       "    </tr>\n",
       "    <tr>\n",
       "      <th>996</th>\n",
       "      <td>0.098829</td>\n",
       "      <td>0.074365</td>\n",
       "      <td>0.104219</td>\n",
       "      <td>0.076951</td>\n",
       "      <td>0.016977</td>\n",
       "    </tr>\n",
       "    <tr>\n",
       "      <th>997</th>\n",
       "      <td>0.113415</td>\n",
       "      <td>0.097788</td>\n",
       "      <td>0.149478</td>\n",
       "      <td>0.102844</td>\n",
       "      <td>0.011078</td>\n",
       "    </tr>\n",
       "    <tr>\n",
       "      <th>998</th>\n",
       "      <td>0.117603</td>\n",
       "      <td>0.086561</td>\n",
       "      <td>0.162716</td>\n",
       "      <td>0.140434</td>\n",
       "      <td>0.019294</td>\n",
       "    </tr>\n",
       "    <tr>\n",
       "      <th>999</th>\n",
       "      <td>0.101442</td>\n",
       "      <td>0.072315</td>\n",
       "      <td>0.165263</td>\n",
       "      <td>0.145450</td>\n",
       "      <td>0.016023</td>\n",
       "    </tr>\n",
       "  </tbody>\n",
       "</table>\n",
       "<p>1000 rows × 5 columns</p>\n",
       "</div>"
      ],
      "text/plain": [
       "     NEW_exec_time  NEW_disk_time  OLD_exec_time  OLD_disk_time  REC_exec_time\n",
       "0         0.112405       0.083974       0.124952       0.078482       0.042630\n",
       "1         0.118061       0.092594       0.145950       0.120183       0.015403\n",
       "2         0.121361       0.097085       0.102239       0.078916       0.015630\n",
       "3         0.094955       0.077940       0.129797       0.105395       0.015625\n",
       "4         0.117725       0.117725       0.153081       0.128688       0.015625\n",
       "..             ...            ...            ...            ...            ...\n",
       "995       0.106305       0.082932       0.130668       0.104241       0.025626\n",
       "996       0.098829       0.074365       0.104219       0.076951       0.016977\n",
       "997       0.113415       0.097788       0.149478       0.102844       0.011078\n",
       "998       0.117603       0.086561       0.162716       0.140434       0.019294\n",
       "999       0.101442       0.072315       0.165263       0.145450       0.016023\n",
       "\n",
       "[1000 rows x 5 columns]"
      ]
     },
     "execution_count": 3,
     "metadata": {},
     "output_type": "execute_result"
    }
   ],
   "source": [
    "# Show data\n",
    "dataFrame"
   ]
  },
  {
   "cell_type": "markdown",
   "id": "46780ac8",
   "metadata": {},
   "source": [
    "What questions will this benchmark test answer?\n",
    "- which line mask generator is faster on average?\n",
    "- what is the proportional gain in speed?\n",
    "- how much time will be saved on 260000 samples (celeba)?\n",
    "\n",
    "Optional:\n",
    "- which disk drawing code executes faster on average?\n",
    "- what is the proportional gain in speed?\n",
    "- what is the average contribution of disk drawing time to execuction time in percent?\n",
    "- plot that visualizes the execution times\n",
    "- plot that visualizes the disk drawing times"
   ]
  },
  {
   "cell_type": "code",
   "execution_count": 13,
   "id": "fc4603dc",
   "metadata": {},
   "outputs": [
    {
     "name": "stdout",
     "output_type": "stream",
     "text": [
      "The mean of execution times of rectangle version is: 0.01863044095039367.\n",
      "\n",
      "The mean of execution times of old version is: 0.12882680130004884.\n",
      "\n",
      "The mean of execution times of NEW version is: 0.11704541969299315.\n",
      "\n",
      "The new algorithm is 9.145132447723995% faster.\n"
     ]
    }
   ],
   "source": [
    "# Compute the mean exec times\n",
    "NEW_mean, NEW_disk_mean, OLD_mean, OLD_disk_mean, REC_mean = dataFrame.mean()\n",
    "\n",
    "gain = NEW_mean*100 / OLD_mean\n",
    "\n",
    "print(f'The mean of execution times of rectangle version is: {REC_mean}.\\n')\n",
    "print(f'The mean of execution times of old version is: {OLD_mean}.\\n')\n",
    "print(f'The mean of execution times of NEW version is: {NEW_mean}.\\n')\n",
    "print(f'The new algorithm is {100-gain}% faster.')"
   ]
  },
  {
   "cell_type": "code",
   "execution_count": 20,
   "id": "5f4d2a0b",
   "metadata": {},
   "outputs": [
    {
     "name": "stdout",
     "output_type": "stream",
     "text": [
      "Time for 1000 samples:\n",
      "   NEW: 1.9507569948832189 min\n",
      "   OLD: 2.1471133550008137 min\n",
      "   REC: 0.31050734917322714 min\n",
      "\n",
      "Time for all 260000 samples:\n",
      "   NEW: 507.1968186696369 min\n",
      "   OLD: 558.2494723002116 min\n",
      "   REC: 80.73191078503905 min\n",
      "\n",
      "The new algorithm could save 51.05265363057467 minutes on the whole dataset.\n"
     ]
    }
   ],
   "source": [
    "# Compute the time saved with NEW version\n",
    "NEW_sum = dataFrame['NEW_exec_time'].sum()\n",
    "OLD_sum = dataFrame['OLD_exec_time'].sum()\n",
    "REC_sum = dataFrame['REC_exec_time'].sum()\n",
    "\n",
    "t_per_dataset_OLD = 260000*OLD_sum / 1000\n",
    "t_per_dataset_NEW = 260000*NEW_sum / 1000\n",
    "t_per_dataset_REC = 260000*REC_sum / 1000\n",
    "\n",
    "print(f'Time for 1000 samples:\\n   NEW: {NEW_sum/60} min\\n   OLD: {OLD_sum/60} min\\n   REC: {REC_sum/60} min\\n')\n",
    "print(f'Time for all 260000 samples:\\n   NEW: {t_per_dataset_NEW/60} min\\n   OLD: {t_per_dataset_OLD/60} min\\n   REC: {t_per_dataset_REC/60} min\\n')\n",
    "print(f'The new algorithm could save {(t_per_dataset_OLD-t_per_dataset_NEW) / 60} minutes on the whole dataset.')"
   ]
  },
  {
   "cell_type": "code",
   "execution_count": 21,
   "id": "b5d03f66",
   "metadata": {},
   "outputs": [
    {
     "name": "stdout",
     "output_type": "stream",
     "text": [
      "The mean of disk drawing times of old version is: 0.1017175018787384.\n",
      "\n",
      "The mean of disk drawing times of NEW version is: 0.09246079540252684.\n",
      "\n"
     ]
    }
   ],
   "source": [
    "# Disk drawing\n",
    "print(f'The mean of disk drawing times of old version is: {OLD_disk_mean}.\\n')\n",
    "print(f'The mean of disk drawing times of NEW version is: {NEW_disk_mean}.\\n')"
   ]
  },
  {
   "cell_type": "code",
   "execution_count": null,
   "id": "82483b15",
   "metadata": {},
   "outputs": [],
   "source": []
  }
 ],
 "metadata": {
  "kernelspec": {
   "display_name": "inpainting",
   "language": "python",
   "name": "inpainting"
  },
  "language_info": {
   "codemirror_mode": {
    "name": "ipython",
    "version": 3
   },
   "file_extension": ".py",
   "mimetype": "text/x-python",
   "name": "python",
   "nbconvert_exporter": "python",
   "pygments_lexer": "ipython3",
   "version": "3.8.12"
  }
 },
 "nbformat": 4,
 "nbformat_minor": 5
}
